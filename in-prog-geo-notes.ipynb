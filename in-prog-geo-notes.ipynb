{
 "cells": [
  {
   "cell_type": "code",
   "execution_count": 28,
   "id": "prescription-voltage",
   "metadata": {},
   "outputs": [],
   "source": [
    "import matplotlib.pyplot as plt\n",
    "import pandas"
   ]
  },
  {
   "cell_type": "code",
   "execution_count": 14,
   "id": "hired-variable",
   "metadata": {},
   "outputs": [
    {
     "name": "stdout",
     "output_type": "stream",
     "text": [
      "Hello World!\n"
     ]
    }
   ],
   "source": [
    "print(\"Hello World!\")"
   ]
  },
  {
   "cell_type": "markdown",
   "id": "joint-sucking",
   "metadata": {},
   "source": [
    "### Exemplo 02"
   ]
  },
  {
   "cell_type": "code",
   "execution_count": 23,
   "id": "needed-polymer",
   "metadata": {},
   "outputs": [
    {
     "name": "stdout",
     "output_type": "stream",
     "text": [
      "\n",
      " x: -1\n",
      " y: 2\n",
      "\n",
      " (-1.0, 2.0): -13.0 \n",
      "\n",
      " Acima da reta!\n"
     ]
    }
   ],
   "source": [
    "A = 3.0\n",
    "B = -2.0\n",
    "C = -6.0\n",
    "\n",
    "x = float(input('\\n x: '))   # lê x\n",
    "y = float(input(' y: '))   # lê y\n",
    "\n",
    "r = A*x + B*y + C\n",
    "\n",
    "print(\"\\n ({0}, {1}): {2} \\n\".format(x, y, r))\n",
    "\n",
    "if r == 0:\n",
    "    print(\" Sobre a reta!\")\n",
    "elif r < 0:\n",
    "    print(\" Acima da reta!\")\n",
    "else:\n",
    "    print(\" Abaixo da reta! \\n\")"
   ]
  },
  {
   "cell_type": "code",
   "execution_count": 24,
   "id": "further-november",
   "metadata": {},
   "outputs": [
    {
     "name": "stdout",
     "output_type": "stream",
     "text": [
      "soma: 15\n"
     ]
    }
   ],
   "source": [
    "soma = 0\n",
    "\n",
    "for i in range(1, 6):\n",
    "    soma = soma + i\n",
    "\n",
    "print(f\"soma: {soma}\")"
   ]
  },
  {
   "cell_type": "code",
   "execution_count": 31,
   "id": "nasty-marketplace",
   "metadata": {},
   "outputs": [
    {
     "data": {
      "text/html": [
       "<div>\n",
       "<style scoped>\n",
       "    .dataframe tbody tr th:only-of-type {\n",
       "        vertical-align: middle;\n",
       "    }\n",
       "\n",
       "    .dataframe tbody tr th {\n",
       "        vertical-align: top;\n",
       "    }\n",
       "\n",
       "    .dataframe thead th {\n",
       "        text-align: right;\n",
       "    }\n",
       "</style>\n",
       "<table border=\"1\" class=\"dataframe\">\n",
       "  <thead>\n",
       "    <tr style=\"text-align: right;\">\n",
       "      <th></th>\n",
       "      <th>Fahrenheit</th>\n",
       "      <th>Celsius</th>\n",
       "    </tr>\n",
       "  </thead>\n",
       "  <tbody>\n",
       "    <tr>\n",
       "      <th>0</th>\n",
       "      <td>0</td>\n",
       "      <td>-17.777778</td>\n",
       "    </tr>\n",
       "    <tr>\n",
       "      <th>1</th>\n",
       "      <td>20</td>\n",
       "      <td>-6.666667</td>\n",
       "    </tr>\n",
       "    <tr>\n",
       "      <th>2</th>\n",
       "      <td>40</td>\n",
       "      <td>4.444444</td>\n",
       "    </tr>\n",
       "    <tr>\n",
       "      <th>3</th>\n",
       "      <td>60</td>\n",
       "      <td>15.555556</td>\n",
       "    </tr>\n",
       "    <tr>\n",
       "      <th>4</th>\n",
       "      <td>80</td>\n",
       "      <td>26.666667</td>\n",
       "    </tr>\n",
       "    <tr>\n",
       "      <th>5</th>\n",
       "      <td>100</td>\n",
       "      <td>37.777778</td>\n",
       "    </tr>\n",
       "    <tr>\n",
       "      <th>6</th>\n",
       "      <td>120</td>\n",
       "      <td>48.888889</td>\n",
       "    </tr>\n",
       "    <tr>\n",
       "      <th>7</th>\n",
       "      <td>140</td>\n",
       "      <td>60.000000</td>\n",
       "    </tr>\n",
       "    <tr>\n",
       "      <th>8</th>\n",
       "      <td>160</td>\n",
       "      <td>71.111111</td>\n",
       "    </tr>\n",
       "    <tr>\n",
       "      <th>9</th>\n",
       "      <td>180</td>\n",
       "      <td>82.222222</td>\n",
       "    </tr>\n",
       "    <tr>\n",
       "      <th>10</th>\n",
       "      <td>200</td>\n",
       "      <td>93.333333</td>\n",
       "    </tr>\n",
       "    <tr>\n",
       "      <th>11</th>\n",
       "      <td>220</td>\n",
       "      <td>104.444444</td>\n",
       "    </tr>\n",
       "    <tr>\n",
       "      <th>12</th>\n",
       "      <td>240</td>\n",
       "      <td>115.555556</td>\n",
       "    </tr>\n",
       "    <tr>\n",
       "      <th>13</th>\n",
       "      <td>260</td>\n",
       "      <td>126.666667</td>\n",
       "    </tr>\n",
       "    <tr>\n",
       "      <th>14</th>\n",
       "      <td>280</td>\n",
       "      <td>137.777778</td>\n",
       "    </tr>\n",
       "    <tr>\n",
       "      <th>15</th>\n",
       "      <td>300</td>\n",
       "      <td>148.888889</td>\n",
       "    </tr>\n",
       "  </tbody>\n",
       "</table>\n",
       "</div>"
      ],
      "text/plain": [
       "    Fahrenheit     Celsius\n",
       "0            0  -17.777778\n",
       "1           20   -6.666667\n",
       "2           40    4.444444\n",
       "3           60   15.555556\n",
       "4           80   26.666667\n",
       "5          100   37.777778\n",
       "6          120   48.888889\n",
       "7          140   60.000000\n",
       "8          160   71.111111\n",
       "9          180   82.222222\n",
       "10         200   93.333333\n",
       "11         220  104.444444\n",
       "12         240  115.555556\n",
       "13         260  126.666667\n",
       "14         280  137.777778\n",
       "15         300  148.888889"
      ]
     },
     "execution_count": 31,
     "metadata": {},
     "output_type": "execute_result"
    }
   ],
   "source": [
    "data = {\"Fahrenheit\":[],\"Celsius\":[]}\n",
    "for fahr in range(0, 320, 20):\n",
    "    celsius = 5 * (fahr - 32) / 9\n",
    "    data[\"Fahrenheit\"].append(fahr)\n",
    "    data[\"Celsius\"].append(celsius)\n",
    "data = pandas.DataFrame.from_dict(data)\n",
    "data"
   ]
  }
 ],
 "metadata": {
  "kernelspec": {
   "display_name": "in-prog-geo",
   "language": "python",
   "name": "in-prog-geo"
  },
  "language_info": {
   "codemirror_mode": {
    "name": "ipython",
    "version": 3
   },
   "file_extension": ".py",
   "mimetype": "text/x-python",
   "name": "python",
   "nbconvert_exporter": "python",
   "pygments_lexer": "ipython3",
   "version": "3.8.8"
  }
 },
 "nbformat": 4,
 "nbformat_minor": 5
}
