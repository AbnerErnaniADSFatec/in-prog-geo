{
 "cells": [
  {
   "cell_type": "code",
   "execution_count": null,
   "id": "periodic-speech",
   "metadata": {},
   "outputs": [],
   "source": [
    "# https://prog-geo.github.io/introducao-programacao/exemplos.html"
   ]
  },
  {
   "cell_type": "code",
   "execution_count": 16,
   "id": "prescription-voltage",
   "metadata": {},
   "outputs": [],
   "source": [
    "import matplotlib.pyplot as plt\n",
    "import pandas"
   ]
  },
  {
   "cell_type": "code",
   "execution_count": 17,
   "id": "hired-variable",
   "metadata": {},
   "outputs": [
    {
     "name": "stdout",
     "output_type": "stream",
     "text": [
      "Hello World!\n"
     ]
    }
   ],
   "source": [
    "print(\"Hello World!\")"
   ]
  },
  {
   "cell_type": "markdown",
   "id": "joint-sucking",
   "metadata": {},
   "source": [
    "### Exemplo 02"
   ]
  },
  {
   "cell_type": "code",
   "execution_count": 18,
   "id": "needed-polymer",
   "metadata": {},
   "outputs": [
    {
     "name": "stdout",
     "output_type": "stream",
     "text": [
      "\n",
      " x: 1\n",
      " y: 2\n",
      "\n",
      " (1.0, 2.0): -7.0 \n",
      "\n",
      " Acima da reta!\n"
     ]
    }
   ],
   "source": [
    "A = 3.0\n",
    "B = -2.0\n",
    "C = -6.0\n",
    "\n",
    "x = float(input('\\n x: '))   # lê x\n",
    "y = float(input(' y: '))   # lê y\n",
    "\n",
    "r = A*x + B*y + C\n",
    "\n",
    "print(\"\\n ({0}, {1}): {2} \\n\".format(x, y, r))\n",
    "\n",
    "if r == 0:\n",
    "    print(\" Sobre a reta!\")\n",
    "elif r < 0:\n",
    "    print(\" Acima da reta!\")\n",
    "else:\n",
    "    print(\" Abaixo da reta! \\n\")"
   ]
  },
  {
   "cell_type": "code",
   "execution_count": 19,
   "id": "further-november",
   "metadata": {},
   "outputs": [
    {
     "name": "stdout",
     "output_type": "stream",
     "text": [
      "soma: 15\n"
     ]
    }
   ],
   "source": [
    "# Exemplo 01\n",
    "\n",
    "soma = 0\n",
    "\n",
    "for i in range(1, 6):\n",
    "    soma = soma + i\n",
    "\n",
    "print(f\"soma: {soma}\")"
   ]
  },
  {
   "cell_type": "code",
   "execution_count": 20,
   "id": "nasty-marketplace",
   "metadata": {},
   "outputs": [
    {
     "data": {
      "text/html": [
       "<div>\n",
       "<style scoped>\n",
       "    .dataframe tbody tr th:only-of-type {\n",
       "        vertical-align: middle;\n",
       "    }\n",
       "\n",
       "    .dataframe tbody tr th {\n",
       "        vertical-align: top;\n",
       "    }\n",
       "\n",
       "    .dataframe thead th {\n",
       "        text-align: right;\n",
       "    }\n",
       "</style>\n",
       "<table border=\"1\" class=\"dataframe\">\n",
       "  <thead>\n",
       "    <tr style=\"text-align: right;\">\n",
       "      <th></th>\n",
       "      <th>Fahrenheit</th>\n",
       "      <th>Celsius</th>\n",
       "    </tr>\n",
       "  </thead>\n",
       "  <tbody>\n",
       "    <tr>\n",
       "      <th>0</th>\n",
       "      <td>0</td>\n",
       "      <td>-17.777778</td>\n",
       "    </tr>\n",
       "    <tr>\n",
       "      <th>1</th>\n",
       "      <td>20</td>\n",
       "      <td>-6.666667</td>\n",
       "    </tr>\n",
       "    <tr>\n",
       "      <th>2</th>\n",
       "      <td>40</td>\n",
       "      <td>4.444444</td>\n",
       "    </tr>\n",
       "    <tr>\n",
       "      <th>3</th>\n",
       "      <td>60</td>\n",
       "      <td>15.555556</td>\n",
       "    </tr>\n",
       "    <tr>\n",
       "      <th>4</th>\n",
       "      <td>80</td>\n",
       "      <td>26.666667</td>\n",
       "    </tr>\n",
       "    <tr>\n",
       "      <th>5</th>\n",
       "      <td>100</td>\n",
       "      <td>37.777778</td>\n",
       "    </tr>\n",
       "    <tr>\n",
       "      <th>6</th>\n",
       "      <td>120</td>\n",
       "      <td>48.888889</td>\n",
       "    </tr>\n",
       "    <tr>\n",
       "      <th>7</th>\n",
       "      <td>140</td>\n",
       "      <td>60.000000</td>\n",
       "    </tr>\n",
       "    <tr>\n",
       "      <th>8</th>\n",
       "      <td>160</td>\n",
       "      <td>71.111111</td>\n",
       "    </tr>\n",
       "    <tr>\n",
       "      <th>9</th>\n",
       "      <td>180</td>\n",
       "      <td>82.222222</td>\n",
       "    </tr>\n",
       "    <tr>\n",
       "      <th>10</th>\n",
       "      <td>200</td>\n",
       "      <td>93.333333</td>\n",
       "    </tr>\n",
       "    <tr>\n",
       "      <th>11</th>\n",
       "      <td>220</td>\n",
       "      <td>104.444444</td>\n",
       "    </tr>\n",
       "    <tr>\n",
       "      <th>12</th>\n",
       "      <td>240</td>\n",
       "      <td>115.555556</td>\n",
       "    </tr>\n",
       "    <tr>\n",
       "      <th>13</th>\n",
       "      <td>260</td>\n",
       "      <td>126.666667</td>\n",
       "    </tr>\n",
       "    <tr>\n",
       "      <th>14</th>\n",
       "      <td>280</td>\n",
       "      <td>137.777778</td>\n",
       "    </tr>\n",
       "    <tr>\n",
       "      <th>15</th>\n",
       "      <td>300</td>\n",
       "      <td>148.888889</td>\n",
       "    </tr>\n",
       "  </tbody>\n",
       "</table>\n",
       "</div>"
      ],
      "text/plain": [
       "    Fahrenheit     Celsius\n",
       "0            0  -17.777778\n",
       "1           20   -6.666667\n",
       "2           40    4.444444\n",
       "3           60   15.555556\n",
       "4           80   26.666667\n",
       "5          100   37.777778\n",
       "6          120   48.888889\n",
       "7          140   60.000000\n",
       "8          160   71.111111\n",
       "9          180   82.222222\n",
       "10         200   93.333333\n",
       "11         220  104.444444\n",
       "12         240  115.555556\n",
       "13         260  126.666667\n",
       "14         280  137.777778\n",
       "15         300  148.888889"
      ]
     },
     "execution_count": 20,
     "metadata": {},
     "output_type": "execute_result"
    }
   ],
   "source": [
    "# Exemplo 02\n",
    "\n",
    "data = {\"Fahrenheit\":[],\"Celsius\":[]}\n",
    "for fahr in range(0, 320, 20):\n",
    "    celsius = 5 * (fahr - 32) / 9\n",
    "    data[\"Fahrenheit\"].append(fahr)\n",
    "    data[\"Celsius\"].append(celsius)\n",
    "data = pandas.DataFrame.from_dict(data)\n",
    "data"
   ]
  },
  {
   "cell_type": "code",
   "execution_count": 21,
   "id": "greenhouse-pharmaceutical",
   "metadata": {},
   "outputs": [
    {
     "name": "stdout",
     "output_type": "stream",
     "text": [
      "\n",
      " N: 5\n",
      "\n",
      " Fatorial: 120\n"
     ]
    }
   ],
   "source": [
    "# Exemplo 03\n",
    "\n",
    "n = int(input(\"\\n N: \"))\n",
    "\n",
    "if n > 0 and n <= 10:\n",
    "    fatorial = 1\n",
    "    for i in range(1, n + 1):\n",
    "        fatorial = fatorial * i\n",
    "    print(f\"\\n Fatorial: {fatorial}\")\n",
    "else:\n",
    "    print(\"\\n Fora do intervalo!\\n\")"
   ]
  },
  {
   "cell_type": "code",
   "execution_count": 22,
   "id": "centered-beauty",
   "metadata": {},
   "outputs": [
    {
     "name": "stdout",
     "output_type": "stream",
     "text": [
      "\n",
      " x: 2\n",
      " y: 3\n",
      "\n",
      " Resultado: 8.0\n",
      "\n"
     ]
    }
   ],
   "source": [
    "# Exemplo 05\n",
    "\n",
    "x = float(input(\"\\n x: \"))\n",
    "y = int(input(\" y: \"))\n",
    "\n",
    "resultado = 0\n",
    "if y >= 0:\n",
    "    resultado = 1\n",
    "    for i in range(1, y + 1):\n",
    "        resultado = resultado * x\n",
    "\n",
    "print(f\"\\n Resultado: {resultado}\\n\")"
   ]
  },
  {
   "cell_type": "code",
   "execution_count": 23,
   "id": "hybrid-world",
   "metadata": {},
   "outputs": [
    {
     "name": "stdout",
     "output_type": "stream",
     "text": [
      "\n",
      " N: 9\n",
      "\n",
      " 9 não é um número primo!\n",
      "\n"
     ]
    }
   ],
   "source": [
    "# Exemplo 06\n",
    "\n",
    "n = int(input(\"\\n N: \"))\n",
    "\n",
    "primo = True\n",
    "\n",
    "for i in range(2, n):\n",
    "    if (n % i == 0):\n",
    "        primo = primo and False\n",
    "        break\n",
    "\n",
    "if primo:\n",
    "    print(f\"\\n {n} é um número primo!\")\n",
    "else:\n",
    "    print(f\"\\n {n} não é um número primo!\\n\")"
   ]
  },
  {
   "cell_type": "code",
   "execution_count": 24,
   "id": "elementary-trunk",
   "metadata": {},
   "outputs": [
    {
     "name": "stdout",
     "output_type": "stream",
     "text": [
      "232\n"
     ]
    }
   ],
   "source": [
    "# Exemplo 10\n",
    "vetor = [0, 1, 1, 2, 3, 5, 8, 13, 21, 34, 55, 89]\n",
    "s = 0\n",
    "for i in vetor:\n",
    "    s = s + i\n",
    "print(s)"
   ]
  },
  {
   "cell_type": "code",
   "execution_count": 25,
   "id": "completed-ratio",
   "metadata": {},
   "outputs": [
    {
     "data": {
      "text/plain": [
       "(0.8663484486873508,\n",
       " 0.8351625595361358,\n",
       " 0.8227549616820593,\n",
       " 0.854207224745836,\n",
       " 0.8733832539142273,\n",
       " 0.8763655742073009,\n",
       " 0.8357366771159874,\n",
       " 0.7968568102444703,\n",
       " 0.8692493946731235,\n",
       " 0.8587746625129803,\n",
       " 0.8494182067077344,\n",
       " 0.8573743922204214,\n",
       " 0.863905325443787,\n",
       " 0.8503443957420163,\n",
       " 0.8419768151311775,\n",
       " 0.8585913949027131,\n",
       " 0.8500619578686494,\n",
       " 0.8486165104047565,\n",
       " 0.847924871251136,\n",
       " 0.8360406091370558,\n",
       " 0.9179566563467493,\n",
       " 0.5221920289855072,\n",
       " 0.8778296802012217)"
      ]
     },
     "execution_count": 25,
     "metadata": {},
     "output_type": "execute_result"
    }
   ],
   "source": [
    "# Exemplo 11\n",
    "red_values = (\n",
    "    168, 398, 451, 337, 186, 232, 262, 349,\n",
    "    189, 204, 220, 220, 207, 239, 259, 258,\n",
    "    242, 331, 251, 323, 106, 1055, 170\n",
    ")\n",
    "\n",
    "nir_values = (\n",
    "    2346, 4431, 4638, 4286, 2752, 3521, 2928, 3087,\n",
    "    2702, 2685, 2702, 2865, 2835, 2955, 3019, 3391,\n",
    "    2986, 4042, 3050, 3617, 2478, 3361, 2613\n",
    ")\n",
    "\n",
    "timeline = (\n",
    "    \"2015-01-01\", \"2015-01-17\", \"2015-02-02\", \"2015-02-18\",\n",
    "    \"2015-03-06\", \"2015-03-22\", \"2015-04-07\", \"2015-04-23\",\n",
    "    \"2015-05-09\", \"2015-05-25\", \"2015-06-10\", \"2015-06-26\",\n",
    "    \"2015-07-12\", \"2015-07-28\", \"2015-08-13\", \"2015-08-29\",\n",
    "    \"2015-09-14\", \"2015-09-30\", \"2015-10-16\", \"2015-11-01\",\n",
    "    \"2015-11-17\", \"2015-12-03\", \"2015-12-19\"\n",
    ")\n",
    "\n",
    "ndvi = []\n",
    "for red_value, nir_value in zip(red_values, nir_values):\n",
    "    ndvi.append(\n",
    "        (nir_value - red_value) / (nir_value + red_value)\n",
    "    )\n",
    "ndvi = tuple(ndvi)\n",
    "ndvi"
   ]
  }
 ],
 "metadata": {
  "kernelspec": {
   "display_name": "in-prog-geo",
   "language": "python",
   "name": "in-prog-geo"
  },
  "language_info": {
   "codemirror_mode": {
    "name": "ipython",
    "version": 3
   },
   "file_extension": ".py",
   "mimetype": "text/x-python",
   "name": "python",
   "nbconvert_exporter": "python",
   "pygments_lexer": "ipython3",
   "version": "3.8.8"
  }
 },
 "nbformat": 4,
 "nbformat_minor": 5
}
